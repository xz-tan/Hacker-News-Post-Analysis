{
 "cells": [
  {
   "cell_type": "markdown",
   "metadata": {
    "collapsed": true
   },
   "source": [
    "# Exploring Hacker News Post\n",
    "\n",
    "## Introduction\n",
    "---\n",
    "Hacker News is a site where user-submitted stories are voted and commented upon. There is currently a dataset available on [kaggle](https://www.kaggle.com/hacker-news/hacker-news-posts), but it has been reduced from about 300,000 rows to approximately 20,000 rows by removing all submissions that did not receive any comments, and then randomly sampling from the remaining submissions.\n",
    "\n",
    "## Objective\n",
    "---\n",
    "We are specifically interested in post whose titles begin with either **Ask HN** or **Show HN**. Users submit **Ask HN** posts to ask the community a specific quesion while the **Show HN** posts are to show the community a project, product or generally something interesting. In this project, we are mainly comparing between these two types of posts to determine the following:\n",
    "\n",
    "1) Do **Ask HN** or **Show HN** posts receive more comments on average?\n",
    "\n",
    "2) Do posts created at a certain time receive more comments on average?\n",
    "\n",
    "## Exploring the data\n",
    "---\n",
    "We will first be printing the first 5 rows of the dataset, which is stored as a list of lists under the variable name `hn`."
   ]
  },
  {
   "cell_type": "code",
   "execution_count": 2,
   "metadata": {},
   "outputs": [
    {
     "name": "stdout",
     "output_type": "stream",
     "text": [
      "['id', 'title', 'url', 'num_points', 'num_comments', 'author', 'created_at']\n",
      "\n",
      "\n",
      "['12579008', 'You have two days to comment if you want stem cells to be classified as your own', 'http://www.regulations.gov/document?D=FDA-2015-D-3719-0018', '1', '0', 'altstar', '9/26/2016 3:26']\n",
      "\n",
      "\n",
      "['12579005', 'SQLAR  the SQLite Archiver', 'https://www.sqlite.org/sqlar/doc/trunk/README.md', '1', '0', 'blacksqr', '9/26/2016 3:24']\n",
      "\n",
      "\n",
      "['12578997', 'What if we just printed a flatscreen television on the side of our boxes?', 'https://medium.com/vanmoof/our-secrets-out-f21c1f03fdc8#.ietxmez43', '1', '0', 'pavel_lishin', '9/26/2016 3:19']\n",
      "\n",
      "\n",
      "['12578989', 'algorithmic music', 'http://cacm.acm.org/magazines/2011/7/109891-algorithmic-composition/fulltext', '1', '0', 'poindontcare', '9/26/2016 3:16']\n",
      "\n",
      "\n"
     ]
    }
   ],
   "source": [
    "from csv import reader\n",
    "opened_file = open(\"HN_posts_year_to_Sep_26_2016.csv\", encoding='utf8')\n",
    "read_file = reader(opened_file)\n",
    "hn = list(read_file)\n",
    "for rows in hn[:5]:\n",
    "    print(rows)\n",
    "    print('\\n')"
   ]
  },
  {
   "cell_type": "markdown",
   "metadata": {
    "collapsed": true
   },
   "source": [
    "As we can see, the first row of the data contain the column names. We are going to extract the first row of data and store it under the variable `headers`."
   ]
  },
  {
   "cell_type": "code",
   "execution_count": 3,
   "metadata": {},
   "outputs": [
    {
     "name": "stdout",
     "output_type": "stream",
     "text": [
      "['id', 'title', 'url', 'num_points', 'num_comments', 'author', 'created_at']\n",
      "\n",
      "\n",
      "['12579008', 'You have two days to comment if you want stem cells to be classified as your own', 'http://www.regulations.gov/document?D=FDA-2015-D-3719-0018', '1', '0', 'altstar', '9/26/2016 3:26']\n",
      "['12579005', 'SQLAR  the SQLite Archiver', 'https://www.sqlite.org/sqlar/doc/trunk/README.md', '1', '0', 'blacksqr', '9/26/2016 3:24']\n",
      "['12578997', 'What if we just printed a flatscreen television on the side of our boxes?', 'https://medium.com/vanmoof/our-secrets-out-f21c1f03fdc8#.ietxmez43', '1', '0', 'pavel_lishin', '9/26/2016 3:19']\n",
      "['12578989', 'algorithmic music', 'http://cacm.acm.org/magazines/2011/7/109891-algorithmic-composition/fulltext', '1', '0', 'poindontcare', '9/26/2016 3:16']\n",
      "['12578979', 'How the Data Vault Enables the Next-Gen Data Warehouse and Data Lake', 'https://www.talend.com/blog/2016/05/12/talend-and-Â\\x93the-data-vaultÂ\\x94', '1', '0', 'markgainor1', '9/26/2016 3:14']\n"
     ]
    }
   ],
   "source": [
    "headers = hn[0]\n",
    "del hn[0]\n",
    "print(headers)\n",
    "print('\\n')\n",
    "for rows in hn[:5]:\n",
    "    print(rows)"
   ]
  },
  {
   "cell_type": "markdown",
   "metadata": {},
   "source": [
    "Now that we have removed the headers, we can start to filter our data."
   ]
  },
  {
   "cell_type": "markdown",
   "metadata": {},
   "source": [
    "## Filtering of data\n",
    "---\n",
    "We are only concerned with post titles beginning with \"Ask HN\" or \"Show HN\", hence we will create a new list of lists containing just the data for those titles."
   ]
  },
  {
   "cell_type": "code",
   "execution_count": 4,
   "metadata": {},
   "outputs": [
    {
     "name": "stdout",
     "output_type": "stream",
     "text": [
      "9139\n",
      "10158\n",
      "273822\n"
     ]
    }
   ],
   "source": [
    "ask_posts = []\n",
    "show_posts = []\n",
    "other_posts = []\n",
    "for row in hn:\n",
    "    title = row[1]\n",
    "    title1 = title.lower() \n",
    "    # above step is to ensure that we dont miss out any title that is in upper case by converting all titles to lower case\n",
    "    if title1.startswith('ask hn'):\n",
    "        ask_posts.append(row)\n",
    "        \n",
    "    elif title1.startswith('show hn'):\n",
    "        show_posts.append(row)\n",
    "        \n",
    "    else:\n",
    "        other_posts.append(row)\n",
    "print(len(ask_posts))\n",
    "print(len(show_posts))\n",
    "print(len(other_posts))\n",
    "\n",
    "        "
   ]
  },
  {
   "cell_type": "markdown",
   "metadata": {},
   "source": [
    "We can see that there are 1744 ask posts, 1162 show posts and 17194 other posts."
   ]
  },
  {
   "cell_type": "markdown",
   "metadata": {},
   "source": [
    "## Analysis of data\n",
    "---\n",
    "### Average number of comments for both types of posts\n",
    "\n",
    "To find out whether **Ask HN** posts or **Show HN** posts have more comments, we will first need to find the total number of comments for each type of post and then divide by the number of posts.\n",
    "\n"
   ]
  },
  {
   "cell_type": "code",
   "execution_count": 5,
   "metadata": {},
   "outputs": [
    {
     "name": "stdout",
     "output_type": "stream",
     "text": [
      "Average number of comments on an ask post = 54.46\n",
      "Average number of comments on a show post = 42.71\n"
     ]
    }
   ],
   "source": [
    "# Finding the average number of comments on an ask post\n",
    "total_ask_comments = 0\n",
    "for row in ask_posts:\n",
    "    num_comments1 = int(row[4])\n",
    "    total_ask_comments += num_comments1\n",
    "avg_ask_comments = total_ask_comments/1744\n",
    "print(\"Average number of comments on an ask post = \" + str(round(avg_ask_comments, 2)))\n",
    "\n",
    "# Finding the average number of comments on a show post\n",
    "total_show_comments = 0\n",
    "for row in show_posts:\n",
    "    num_comments2 = int(row[4])\n",
    "    total_show_comments += num_comments2\n",
    "avg_show_comments = total_show_comments/1162\n",
    "print(\"Average number of comments on a show post = \" + str(round(avg_show_comments, 2)))\n"
   ]
  },
  {
   "cell_type": "markdown",
   "metadata": {},
   "source": [
    "As seen above, ask post has an average of 14.04 comments per post while show post has an average of 10.32 comments per post. Hence, ask post receive more comments on average."
   ]
  },
  {
   "cell_type": "markdown",
   "metadata": {},
   "source": [
    "### Determine if ask posts at certain time are more likely to attract comments\n",
    "\n"
   ]
  },
  {
   "cell_type": "code",
   "execution_count": 6,
   "metadata": {},
   "outputs": [
    {
     "name": "stdout",
     "output_type": "stream",
     "text": [
      "The number of ask posts by hour =  {2: 269, 1: 282, 22: 383, 21: 518, 19: 552, 17: 587, 15: 646, 14: 513, 13: 444, 11: 312, 10: 282, 9: 222, 7: 226, 3: 271, 23: 343, 20: 510, 16: 579, 8: 257, 0: 301, 18: 614, 12: 342, 4: 243, 6: 234, 5: 209}\n",
      "\n",
      "\n",
      "The number of comments on ask posts by hour =  {2: 2996, 1: 2089, 22: 3372, 21: 4500, 19: 3954, 17: 5547, 15: 18525, 14: 4972, 13: 7245, 11: 2797, 10: 3013, 9: 1477, 7: 1585, 3: 2154, 23: 2297, 20: 4462, 16: 4466, 8: 2362, 0: 2277, 18: 4877, 12: 4234, 4: 2360, 6: 1587, 5: 1838}\n"
     ]
    }
   ],
   "source": [
    "import datetime as dt\n",
    "import re\n",
    "result_list = []\n",
    "for post in ask_posts:\n",
    "    datetime_comments = [post[6], int(post[4])]\n",
    "    result_list.append(datetime_comments)\n",
    "counts_by_hour = {}\n",
    "comments_by_hour = {}\n",
    "for post in result_list:\n",
    "    date_time = post[0]\n",
    "    # string_split = re.split(':| |', date_time) # alternative method to extract hour\n",
    "    # hour = string_split[1]\n",
    "    DateTime = dt.datetime.strptime(date_time, '%m/%d/%Y %H:%M')\n",
    "    Hour = DateTime.hour\n",
    "    # Hour = dt.datetime.strftime(DateTime, '%H') # alternative method to extract hour from DateTime object\n",
    "    if Hour not in counts_by_hour:\n",
    "        counts_by_hour[Hour] = 1\n",
    "        comments_by_hour[Hour] = post[1]\n",
    "    else:\n",
    "        counts_by_hour[Hour] += 1\n",
    "        comments_by_hour[Hour] += post[1]\n",
    "print('The number of ask posts by hour = ', counts_by_hour)\n",
    "print('\\n')\n",
    "print('The number of comments on ask posts by hour = ', comments_by_hour)\n",
    "\n",
    "\n",
    "    "
   ]
  },
  {
   "cell_type": "markdown",
   "metadata": {
    "collapsed": true
   },
   "source": [
    "From the above, the most popular time where ask posts are posted is around 15:00 - 16:00, with 116 posts posted at that time of the day.\n",
    "\n",
    "Similarly, ask posts that are posted from 15:00 - 16:00 also happen to have the highest number of comments (4477 comments) on them.\n",
    "\n",
    "However, we cannot confirm that the high number of comments from 15:00 to 16:00 is due to the high number of ask posts or is it due to the time of the day. Thus, we will be finding out the average number of comments on an ask post by hour."
   ]
  },
  {
   "cell_type": "code",
   "execution_count": 7,
   "metadata": {},
   "outputs": [
    {
     "name": "stdout",
     "output_type": "stream",
     "text": [
      "15:00 : 28.68 average comments per post\n",
      "13:00 : 16.32 average comments per post\n",
      "12:00 : 12.38 average comments per post\n",
      "2:00 : 11.14 average comments per post\n",
      "10:00 : 10.68 average comments per post\n",
      "4:00 : 9.71 average comments per post\n",
      "14:00 : 9.69 average comments per post\n",
      "17:00 : 9.45 average comments per post\n",
      "8:00 : 9.19 average comments per post\n",
      "11:00 : 8.96 average comments per post\n",
      "22:00 : 8.8 average comments per post\n",
      "5:00 : 8.79 average comments per post\n",
      "20:00 : 8.75 average comments per post\n",
      "21:00 : 8.69 average comments per post\n",
      "3:00 : 7.95 average comments per post\n",
      "18:00 : 7.94 average comments per post\n",
      "16:00 : 7.71 average comments per post\n",
      "0:00 : 7.56 average comments per post\n",
      "1:00 : 7.41 average comments per post\n",
      "19:00 : 7.16 average comments per post\n",
      "7:00 : 7.01 average comments per post\n",
      "6:00 : 6.78 average comments per post\n",
      "23:00 : 6.7 average comments per post\n",
      "9:00 : 6.65 average comments per post\n"
     ]
    }
   ],
   "source": [
    "avg_by_hour = []\n",
    "for hour in counts_by_hour:\n",
    "    avg_comments = comments_by_hour[hour]/counts_by_hour[hour]\n",
    "    avg_by_hour.append([round(avg_comments, 2), hour])\n",
    "    \n",
    "avg_by_hour = sorted(avg_by_hour, reverse = True)\n",
    "\n",
    "for hour in avg_by_hour:\n",
    "    string = '{}:00 : {} average comments per post'.format(hour[1], hour[0])\n",
    "    print(string)\n"
   ]
  },
  {
   "cell_type": "markdown",
   "metadata": {},
   "source": [
    "## Conclusion\n",
    "---\n",
    "The average number of comments per post is still the highest (38.59 comments) for ask post made between 15:00 - 16:00. The timezone of this dataset is Eastern Time in US (GMT-4). Thus, to convert it to local Singapore time (GMT+8), we will need to add 12 hours to the time above, which means that 03:00 - 04:00 is the best timing for Singaporeans to create an ask post that will receive the most number of comments."
   ]
  },
  {
   "cell_type": "markdown",
   "metadata": {},
   "source": [
    "Some things to work on:\n",
    "\n",
    "Determine if show or ask posts receive more points on average.\n",
    "Determine if posts created at a certain time are more likely to receive more points.\n",
    "Compare your results to the average number of comments and points other posts receive."
   ]
  },
  {
   "cell_type": "code",
   "execution_count": null,
   "metadata": {},
   "outputs": [],
   "source": []
  }
 ],
 "metadata": {
  "kernelspec": {
   "display_name": "Python 3",
   "language": "python",
   "name": "python3"
  },
  "language_info": {
   "codemirror_mode": {
    "name": "ipython",
    "version": 3
   },
   "file_extension": ".py",
   "mimetype": "text/x-python",
   "name": "python",
   "nbconvert_exporter": "python",
   "pygments_lexer": "ipython3",
   "version": "3.8.8"
  }
 },
 "nbformat": 4,
 "nbformat_minor": 2
}
